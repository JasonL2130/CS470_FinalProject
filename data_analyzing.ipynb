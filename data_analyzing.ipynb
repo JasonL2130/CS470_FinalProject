{
 "cells": [
  {
   "cell_type": "code",
   "execution_count": 3,
   "metadata": {},
   "outputs": [],
   "source": [
    "import pandas as pd\n",
    "import numpy as np"
   ]
  },
  {
   "cell_type": "code",
   "execution_count": 4,
   "metadata": {},
   "outputs": [],
   "source": [
    "data = pd.read_csv('/Users/JasonLebov_1/Desktop/CS 470/Final Project/mxmh_survey_results.csv')"
   ]
  },
  {
   "cell_type": "code",
   "execution_count": 8,
   "metadata": {},
   "outputs": [
    {
     "data": {
      "text/html": [
       "<div>\n",
       "<style scoped>\n",
       "    .dataframe tbody tr th:only-of-type {\n",
       "        vertical-align: middle;\n",
       "    }\n",
       "\n",
       "    .dataframe tbody tr th {\n",
       "        vertical-align: top;\n",
       "    }\n",
       "\n",
       "    .dataframe thead th {\n",
       "        text-align: right;\n",
       "    }\n",
       "</style>\n",
       "<table border=\"1\" class=\"dataframe\">\n",
       "  <thead>\n",
       "    <tr style=\"text-align: right;\">\n",
       "      <th></th>\n",
       "      <th>Timestamp</th>\n",
       "      <th>Age</th>\n",
       "      <th>Primary streaming service</th>\n",
       "      <th>Hours per day</th>\n",
       "      <th>While working</th>\n",
       "      <th>Instrumentalist</th>\n",
       "      <th>Composer</th>\n",
       "      <th>Fav genre</th>\n",
       "      <th>Exploratory</th>\n",
       "      <th>Foreign languages</th>\n",
       "      <th>...</th>\n",
       "      <th>Frequency [R&amp;B]</th>\n",
       "      <th>Frequency [Rap]</th>\n",
       "      <th>Frequency [Rock]</th>\n",
       "      <th>Frequency [Video game music]</th>\n",
       "      <th>Anxiety</th>\n",
       "      <th>Depression</th>\n",
       "      <th>Insomnia</th>\n",
       "      <th>OCD</th>\n",
       "      <th>Music effects</th>\n",
       "      <th>Permissions</th>\n",
       "    </tr>\n",
       "  </thead>\n",
       "  <tbody>\n",
       "    <tr>\n",
       "      <th>0</th>\n",
       "      <td>8/27/2022 19:29:02</td>\n",
       "      <td>18.0</td>\n",
       "      <td>Spotify</td>\n",
       "      <td>3.0</td>\n",
       "      <td>Yes</td>\n",
       "      <td>Yes</td>\n",
       "      <td>Yes</td>\n",
       "      <td>Latin</td>\n",
       "      <td>Yes</td>\n",
       "      <td>Yes</td>\n",
       "      <td>...</td>\n",
       "      <td>Sometimes</td>\n",
       "      <td>Very frequently</td>\n",
       "      <td>Never</td>\n",
       "      <td>Sometimes</td>\n",
       "      <td>3.0</td>\n",
       "      <td>0.0</td>\n",
       "      <td>1.0</td>\n",
       "      <td>0.0</td>\n",
       "      <td>NaN</td>\n",
       "      <td>I understand.</td>\n",
       "    </tr>\n",
       "    <tr>\n",
       "      <th>1</th>\n",
       "      <td>8/27/2022 19:57:31</td>\n",
       "      <td>63.0</td>\n",
       "      <td>Pandora</td>\n",
       "      <td>1.5</td>\n",
       "      <td>Yes</td>\n",
       "      <td>No</td>\n",
       "      <td>No</td>\n",
       "      <td>Rock</td>\n",
       "      <td>Yes</td>\n",
       "      <td>No</td>\n",
       "      <td>...</td>\n",
       "      <td>Sometimes</td>\n",
       "      <td>Rarely</td>\n",
       "      <td>Very frequently</td>\n",
       "      <td>Rarely</td>\n",
       "      <td>7.0</td>\n",
       "      <td>2.0</td>\n",
       "      <td>2.0</td>\n",
       "      <td>1.0</td>\n",
       "      <td>NaN</td>\n",
       "      <td>I understand.</td>\n",
       "    </tr>\n",
       "    <tr>\n",
       "      <th>2</th>\n",
       "      <td>8/27/2022 21:28:18</td>\n",
       "      <td>18.0</td>\n",
       "      <td>Spotify</td>\n",
       "      <td>4.0</td>\n",
       "      <td>No</td>\n",
       "      <td>No</td>\n",
       "      <td>No</td>\n",
       "      <td>Video game music</td>\n",
       "      <td>No</td>\n",
       "      <td>Yes</td>\n",
       "      <td>...</td>\n",
       "      <td>Never</td>\n",
       "      <td>Rarely</td>\n",
       "      <td>Rarely</td>\n",
       "      <td>Very frequently</td>\n",
       "      <td>7.0</td>\n",
       "      <td>7.0</td>\n",
       "      <td>10.0</td>\n",
       "      <td>2.0</td>\n",
       "      <td>No effect</td>\n",
       "      <td>I understand.</td>\n",
       "    </tr>\n",
       "    <tr>\n",
       "      <th>3</th>\n",
       "      <td>8/27/2022 21:40:40</td>\n",
       "      <td>61.0</td>\n",
       "      <td>YouTube Music</td>\n",
       "      <td>2.5</td>\n",
       "      <td>Yes</td>\n",
       "      <td>No</td>\n",
       "      <td>Yes</td>\n",
       "      <td>Jazz</td>\n",
       "      <td>Yes</td>\n",
       "      <td>Yes</td>\n",
       "      <td>...</td>\n",
       "      <td>Sometimes</td>\n",
       "      <td>Never</td>\n",
       "      <td>Never</td>\n",
       "      <td>Never</td>\n",
       "      <td>9.0</td>\n",
       "      <td>7.0</td>\n",
       "      <td>3.0</td>\n",
       "      <td>3.0</td>\n",
       "      <td>Improve</td>\n",
       "      <td>I understand.</td>\n",
       "    </tr>\n",
       "    <tr>\n",
       "      <th>4</th>\n",
       "      <td>8/27/2022 21:54:47</td>\n",
       "      <td>18.0</td>\n",
       "      <td>Spotify</td>\n",
       "      <td>4.0</td>\n",
       "      <td>Yes</td>\n",
       "      <td>No</td>\n",
       "      <td>No</td>\n",
       "      <td>R&amp;B</td>\n",
       "      <td>Yes</td>\n",
       "      <td>No</td>\n",
       "      <td>...</td>\n",
       "      <td>Very frequently</td>\n",
       "      <td>Very frequently</td>\n",
       "      <td>Never</td>\n",
       "      <td>Rarely</td>\n",
       "      <td>7.0</td>\n",
       "      <td>2.0</td>\n",
       "      <td>5.0</td>\n",
       "      <td>9.0</td>\n",
       "      <td>Improve</td>\n",
       "      <td>I understand.</td>\n",
       "    </tr>\n",
       "  </tbody>\n",
       "</table>\n",
       "<p>5 rows × 33 columns</p>\n",
       "</div>"
      ],
      "text/plain": [
       "            Timestamp   Age Primary streaming service  Hours per day  \\\n",
       "0  8/27/2022 19:29:02  18.0                   Spotify            3.0   \n",
       "1  8/27/2022 19:57:31  63.0                   Pandora            1.5   \n",
       "2  8/27/2022 21:28:18  18.0                   Spotify            4.0   \n",
       "3  8/27/2022 21:40:40  61.0             YouTube Music            2.5   \n",
       "4  8/27/2022 21:54:47  18.0                   Spotify            4.0   \n",
       "\n",
       "  While working Instrumentalist Composer         Fav genre Exploratory  \\\n",
       "0           Yes             Yes      Yes             Latin         Yes   \n",
       "1           Yes              No       No              Rock         Yes   \n",
       "2            No              No       No  Video game music          No   \n",
       "3           Yes              No      Yes              Jazz         Yes   \n",
       "4           Yes              No       No               R&B         Yes   \n",
       "\n",
       "  Foreign languages  ...  Frequency [R&B]  Frequency [Rap] Frequency [Rock]  \\\n",
       "0               Yes  ...        Sometimes  Very frequently            Never   \n",
       "1                No  ...        Sometimes           Rarely  Very frequently   \n",
       "2               Yes  ...            Never           Rarely           Rarely   \n",
       "3               Yes  ...        Sometimes            Never            Never   \n",
       "4                No  ...  Very frequently  Very frequently            Never   \n",
       "\n",
       "  Frequency [Video game music] Anxiety Depression Insomnia  OCD Music effects  \\\n",
       "0                    Sometimes     3.0        0.0      1.0  0.0           NaN   \n",
       "1                       Rarely     7.0        2.0      2.0  1.0           NaN   \n",
       "2              Very frequently     7.0        7.0     10.0  2.0     No effect   \n",
       "3                        Never     9.0        7.0      3.0  3.0       Improve   \n",
       "4                       Rarely     7.0        2.0      5.0  9.0       Improve   \n",
       "\n",
       "     Permissions  \n",
       "0  I understand.  \n",
       "1  I understand.  \n",
       "2  I understand.  \n",
       "3  I understand.  \n",
       "4  I understand.  \n",
       "\n",
       "[5 rows x 33 columns]"
      ]
     },
     "execution_count": 8,
     "metadata": {},
     "output_type": "execute_result"
    }
   ],
   "source": [
    "data.head()"
   ]
  },
  {
   "cell_type": "code",
   "execution_count": null,
   "metadata": {},
   "outputs": [],
   "source": []
  },
  {
   "cell_type": "code",
   "execution_count": 25,
   "metadata": {},
   "outputs": [
    {
     "data": {
      "text/plain": [
       "Timestamp                        object\n",
       "Age                             float64\n",
       "Primary streaming service        object\n",
       "Hours per day                   float64\n",
       "While working                    object\n",
       "Instrumentalist                  object\n",
       "Composer                         object\n",
       "Fav genre                        object\n",
       "Exploratory                      object\n",
       "Foreign languages                object\n",
       "BPM                             float64\n",
       "Frequency [Classical]            object\n",
       "Frequency [Country]              object\n",
       "Frequency [EDM]                  object\n",
       "Frequency [Folk]                 object\n",
       "Frequency [Gospel]               object\n",
       "Frequency [Hip hop]              object\n",
       "Frequency [Jazz]                 object\n",
       "Frequency [K pop]                object\n",
       "Frequency [Latin]                object\n",
       "Frequency [Lofi]                 object\n",
       "Frequency [Metal]                object\n",
       "Frequency [Pop]                  object\n",
       "Frequency [R&B]                  object\n",
       "Frequency [Rap]                  object\n",
       "Frequency [Rock]                 object\n",
       "Frequency [Video game music]     object\n",
       "Anxiety                         float64\n",
       "Depression                      float64\n",
       "Insomnia                        float64\n",
       "OCD                             float64\n",
       "Music effects                    object\n",
       "Permissions                      object\n",
       "dtype: object"
      ]
     },
     "execution_count": 25,
     "metadata": {},
     "output_type": "execute_result"
    }
   ],
   "source": [
    "data.dtypes"
   ]
  },
  {
   "cell_type": "code",
   "execution_count": 8,
   "metadata": {},
   "outputs": [
    {
     "data": {
      "text/plain": [
       "Fav genre\n",
       "Rock                188\n",
       "Pop                 114\n",
       "Metal                88\n",
       "Classical            53\n",
       "Video game music     44\n",
       "EDM                  37\n",
       "R&B                  35\n",
       "Hip hop              35\n",
       "Folk                 30\n",
       "K pop                26\n",
       "Country              25\n",
       "Rap                  22\n",
       "Jazz                 20\n",
       "Lofi                 10\n",
       "Gospel                6\n",
       "Latin                 3\n",
       "Name: count, dtype: int64"
      ]
     },
     "execution_count": 8,
     "metadata": {},
     "output_type": "execute_result"
    }
   ],
   "source": [
    "data['Fav genre'].value_counts()"
   ]
  },
  {
   "cell_type": "code",
   "execution_count": 9,
   "metadata": {},
   "outputs": [
    {
     "data": {
      "text/plain": [
       "Index(['Timestamp', 'Age', 'Primary streaming service', 'Hours per day',\n",
       "       'While working', 'Instrumentalist', 'Composer', 'Fav genre',\n",
       "       'Exploratory', 'Foreign languages', 'BPM', 'Frequency [Classical]',\n",
       "       'Frequency [Country]', 'Frequency [EDM]', 'Frequency [Folk]',\n",
       "       'Frequency [Gospel]', 'Frequency [Hip hop]', 'Frequency [Jazz]',\n",
       "       'Frequency [K pop]', 'Frequency [Latin]', 'Frequency [Lofi]',\n",
       "       'Frequency [Metal]', 'Frequency [Pop]', 'Frequency [R&B]',\n",
       "       'Frequency [Rap]', 'Frequency [Rock]', 'Frequency [Video game music]',\n",
       "       'Anxiety', 'Depression', 'Insomnia', 'OCD', 'Music effects',\n",
       "       'Permissions'],\n",
       "      dtype='object')"
      ]
     },
     "execution_count": 9,
     "metadata": {},
     "output_type": "execute_result"
    }
   ],
   "source": [
    "data.columns"
   ]
  },
  {
   "cell_type": "code",
   "execution_count": 18,
   "metadata": {},
   "outputs": [
    {
     "data": {
      "text/plain": [
       "Anxiety\n",
       "0.0      35\n",
       "1.0      29\n",
       "2.0      44\n",
       "3.0      69\n",
       "4.0      56\n",
       "5.0      59\n",
       "6.0      83\n",
       "7.0     122\n",
       "7.5       1\n",
       "8.0     115\n",
       "9.0      56\n",
       "10.0     67\n",
       "Name: count, dtype: int64"
      ]
     },
     "execution_count": 18,
     "metadata": {},
     "output_type": "execute_result"
    }
   ],
   "source": [
    "data['Anxiety'].value_counts().sort_index()"
   ]
  },
  {
   "cell_type": "code",
   "execution_count": 19,
   "metadata": {},
   "outputs": [
    {
     "data": {
      "text/plain": [
       "Depression\n",
       "0.0     84\n",
       "1.0     40\n",
       "2.0     93\n",
       "3.0     59\n",
       "3.5      2\n",
       "4.0     58\n",
       "5.0     56\n",
       "6.0     88\n",
       "7.0     96\n",
       "8.0     77\n",
       "9.0     38\n",
       "10.0    45\n",
       "Name: count, dtype: int64"
      ]
     },
     "execution_count": 19,
     "metadata": {},
     "output_type": "execute_result"
    }
   ],
   "source": [
    "data['Depression'].value_counts().sort_index()"
   ]
  },
  {
   "cell_type": "code",
   "execution_count": 20,
   "metadata": {},
   "outputs": [
    {
     "data": {
      "text/plain": [
       "Insomnia\n",
       "0.0     149\n",
       "1.0      82\n",
       "2.0      88\n",
       "3.0      68\n",
       "3.5       1\n",
       "4.0      59\n",
       "5.0      58\n",
       "6.0      62\n",
       "7.0      59\n",
       "8.0      49\n",
       "9.0      27\n",
       "10.0     34\n",
       "Name: count, dtype: int64"
      ]
     },
     "execution_count": 20,
     "metadata": {},
     "output_type": "execute_result"
    }
   ],
   "source": [
    "data['Insomnia'].value_counts().sort_index()"
   ]
  },
  {
   "cell_type": "code",
   "execution_count": 21,
   "metadata": {},
   "outputs": [
    {
     "data": {
      "text/plain": [
       "OCD\n",
       "0.0     248\n",
       "1.0      95\n",
       "2.0      96\n",
       "3.0      64\n",
       "4.0      48\n",
       "5.0      54\n",
       "5.5       1\n",
       "6.0      33\n",
       "7.0      34\n",
       "8.0      28\n",
       "8.5       1\n",
       "9.0      14\n",
       "10.0     20\n",
       "Name: count, dtype: int64"
      ]
     },
     "execution_count": 21,
     "metadata": {},
     "output_type": "execute_result"
    }
   ],
   "source": [
    "data['OCD'].value_counts().sort_index()"
   ]
  },
  {
   "cell_type": "code",
   "execution_count": null,
   "metadata": {},
   "outputs": [],
   "source": []
  },
  {
   "cell_type": "code",
   "execution_count": null,
   "metadata": {},
   "outputs": [],
   "source": []
  }
 ],
 "metadata": {
  "kernelspec": {
   "display_name": "env1",
   "language": "python",
   "name": "python3"
  },
  "language_info": {
   "codemirror_mode": {
    "name": "ipython",
    "version": 3
   },
   "file_extension": ".py",
   "mimetype": "text/x-python",
   "name": "python",
   "nbconvert_exporter": "python",
   "pygments_lexer": "ipython3",
   "version": "3.11.8"
  }
 },
 "nbformat": 4,
 "nbformat_minor": 2
}
