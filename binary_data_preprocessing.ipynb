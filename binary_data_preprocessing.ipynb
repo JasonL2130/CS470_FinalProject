{
 "cells": [
  {
   "cell_type": "code",
   "execution_count": 1,
   "metadata": {},
   "outputs": [],
   "source": [
    "import pandas as pd\n",
    "import numpy as np\n",
    "import matplotlib.pyplot as plt \n",
    "import seaborn as sns\n",
    "from preprocessing import *"
   ]
  },
  {
   "cell_type": "code",
   "execution_count": 2,
   "metadata": {},
   "outputs": [],
   "source": [
    "# Loading Data\n",
    "data_raw = pd.read_csv('/Users/JasonLebov_1/Desktop/CS 470/Final Project/mxmh_survey_results.csv')"
   ]
  },
  {
   "cell_type": "code",
   "execution_count": 3,
   "metadata": {},
   "outputs": [],
   "source": [
    "# Step 1: Dropping Features/Samples\n",
    "    # Features\n",
    "cols_drop = ['Permissions', 'Music effects', 'Timestamp', 'BPM']\n",
    "drop_features = drop_irreleveant(data_raw, cols_drop)\n",
    "\n",
    "    # Samples --> w/ NaN\n",
    "drop_samples = drop_features.dropna()"
   ]
  },
  {
   "cell_type": "code",
   "execution_count": 4,
   "metadata": {},
   "outputs": [
    {
     "name": "stderr",
     "output_type": "stream",
     "text": [
      "/Users/JasonLebov_1/Desktop/CS 470/Final Project/CS470_FinalProject_Code/preprocessing.py:43: SettingWithCopyWarning: \n",
      "A value is trying to be set on a copy of a slice from a DataFrame.\n",
      "Try using .loc[row_indexer,col_indexer] = value instead\n",
      "\n",
      "See the caveats in the documentation: https://pandas.pydata.org/pandas-docs/stable/user_guide/indexing.html#returning-a-view-versus-a-copy\n",
      "  df[feature] = pd.cut(df[feature],\n",
      "/Users/JasonLebov_1/Desktop/CS 470/Final Project/CS470_FinalProject_Code/preprocessing.py:43: SettingWithCopyWarning: \n",
      "A value is trying to be set on a copy of a slice from a DataFrame.\n",
      "Try using .loc[row_indexer,col_indexer] = value instead\n",
      "\n",
      "See the caveats in the documentation: https://pandas.pydata.org/pandas-docs/stable/user_guide/indexing.html#returning-a-view-versus-a-copy\n",
      "  df[feature] = pd.cut(df[feature],\n",
      "/Users/JasonLebov_1/Desktop/CS 470/Final Project/CS470_FinalProject_Code/preprocessing.py:43: SettingWithCopyWarning: \n",
      "A value is trying to be set on a copy of a slice from a DataFrame.\n",
      "Try using .loc[row_indexer,col_indexer] = value instead\n",
      "\n",
      "See the caveats in the documentation: https://pandas.pydata.org/pandas-docs/stable/user_guide/indexing.html#returning-a-view-versus-a-copy\n",
      "  df[feature] = pd.cut(df[feature],\n",
      "/Users/JasonLebov_1/Desktop/CS 470/Final Project/CS470_FinalProject_Code/preprocessing.py:43: SettingWithCopyWarning: \n",
      "A value is trying to be set on a copy of a slice from a DataFrame.\n",
      "Try using .loc[row_indexer,col_indexer] = value instead\n",
      "\n",
      "See the caveats in the documentation: https://pandas.pydata.org/pandas-docs/stable/user_guide/indexing.html#returning-a-view-versus-a-copy\n",
      "  df[feature] = pd.cut(df[feature],\n"
     ]
    }
   ],
   "source": [
    "# Step 2: Convert Mental Illness Scores to Categorical\n",
    "features_range = ['Anxiety', 'Depression', 'OCD', 'Insomnia']\n",
    "data_ranged = convert_ranges_binary(drop_samples, features_range)"
   ]
  },
  {
   "cell_type": "code",
   "execution_count": 5,
   "metadata": {},
   "outputs": [],
   "source": [
    "# Step 3: One Hot Encode Features\n",
    "cols_dummy = [\"Primary streaming service\", \"Fav genre\"]\n",
    "one_hot_df = one_hot_encode(data_ranged, cols_dummy)"
   ]
  },
  {
   "cell_type": "code",
   "execution_count": 6,
   "metadata": {},
   "outputs": [],
   "source": [
    "# Step 4: Label Encoding Features\n",
    "encode_features_binary = [\"While working\" , \"Instrumentalist\", \"Composer\", \"Exploratory\", \"Foreign languages\"]\n",
    "binary_options = ['No', 'Yes']\n",
    "label_encoded_df = label_encode(one_hot_df, encode_features_binary, binary_options)"
   ]
  },
  {
   "cell_type": "code",
   "execution_count": 7,
   "metadata": {},
   "outputs": [],
   "source": [
    "# Step 4 [cont]: Label Encoding Features\n",
    "encode_features_cat = [\"Frequency [Classical]\", \"Frequency [Country]\", \"Frequency [EDM]\", \"Frequency [Folk]\", 'Frequency [Gospel]', \n",
    "                   \"Frequency [Hip hop]\", \"Frequency [Jazz]\", \"Frequency [K pop]\", \"Frequency [Latin]\", \"Frequency [Lofi]\", \"Frequency [Metal]\", \"Frequency [Pop]\",\"Frequency [R&B]\", \"Frequency [Rap]\",'Frequency [Rock]', \n",
    "                   'Frequency [Video game music]']\n",
    "cat_options = ['Never', 'Rarely', 'Sometimes', 'Very frequently']\n",
    "label_encoded_df_final = label_encode(label_encoded_df, encode_features_cat, cat_options)"
   ]
  },
  {
   "cell_type": "code",
   "execution_count": 8,
   "metadata": {},
   "outputs": [],
   "source": [
    "# Move Label's to End of DF\n",
    "cols = ['Anxiety', 'Depression', 'OCD', 'Insomnia']\n",
    "numeric_df_final = label_end(label_encoded_df_final, cols)"
   ]
  },
  {
   "cell_type": "code",
   "execution_count": 9,
   "metadata": {},
   "outputs": [],
   "source": [
    "# Step 5: Pearson Correlation Matrix - Features\n",
    "cols_left_out = ['Anxiety', 'OCD', 'Insomnia', 'Depression']\n",
    "feature_isolate = numeric_df_final.drop(columns=cols_left_out, axis=1)\n",
    "feature_corr = pearson_matrix(feature_isolate)"
   ]
  },
  {
   "cell_type": "code",
   "execution_count": 10,
   "metadata": {},
   "outputs": [
    {
     "name": "stdout",
     "output_type": "stream",
     "text": [
      "['Frequency [Hip hop]']\n"
     ]
    }
   ],
   "source": [
    "# Step 5 [cont]: Dropping Highly Correlated Features --> Threshold (delta) = 0.75\n",
    "corr_feature_drop = pearson_drop_delta(numeric_df_final, feature_corr, 0.75)"
   ]
  },
  {
   "cell_type": "code",
   "execution_count": 11,
   "metadata": {},
   "outputs": [],
   "source": [
    "# Step 6: Creating 4 Datasets, for Each Illness\n",
    "anxiety_df = corr_feature_drop.drop(columns=['Depression', 'OCD', 'Insomnia'], axis=1)\n",
    "depression_df = corr_feature_drop.drop(columns=['Anxiety', 'OCD', 'Insomnia'], axis=1)\n",
    "ocd_df = corr_feature_drop.drop(columns=['Anxiety', 'Depression', 'Insomnia'], axis=1)\n",
    "insomnia_df = corr_feature_drop.drop(columns=['Anxiety', 'Depression', 'OCD'], axis=1)"
   ]
  },
  {
   "cell_type": "code",
   "execution_count": 12,
   "metadata": {},
   "outputs": [],
   "source": [
    "# Step 6 [cont]: Removing 'Symptoms_' Prefix from Label Column\n",
    "anxiety_df = remove_prefix(anxiety_df, 'Anxiety')\n",
    "depression_df = remove_prefix(depression_df, 'Depression')\n",
    "ocd_df = remove_prefix(ocd_df, 'OCD')\n",
    "insomnia_df = remove_prefix(insomnia_df, 'Insomnia')"
   ]
  },
  {
   "cell_type": "code",
   "execution_count": 13,
   "metadata": {},
   "outputs": [],
   "source": [
    "# Step 7: Label Encoding Label Feature\n",
    "feature_options = ['No', 'Yes']\n",
    "\n",
    "anxiety_encoded = label_encode(anxiety_df, ['Anxiety'], feature_options)\n",
    "depression_encoded = label_encode(depression_df, ['Depression'], feature_options)\n",
    "ocd_encoded = label_encode(ocd_df, ['OCD'], feature_options)\n",
    "insomnia_encoded = label_encode(insomnia_df, ['Insomnia'], feature_options)"
   ]
  },
  {
   "cell_type": "code",
   "execution_count": 14,
   "metadata": {},
   "outputs": [],
   "source": [
    "# Step 8: Rerun of Pearson Correlation for Labels\n",
    "\n",
    "anxiety_corr = pearson_matrix(anxiety_encoded)\n",
    "depression_corr = pearson_matrix(depression_encoded)\n",
    "ocd_corr = pearson_matrix(ocd_encoded)\n",
    "insomnia_corr = pearson_matrix(insomnia_encoded)"
   ]
  },
  {
   "cell_type": "code",
   "execution_count": 15,
   "metadata": {},
   "outputs": [
    {
     "name": "stdout",
     "output_type": "stream",
     "text": [
      "['Fav genre_Metal', 'Fav genre_Jazz', 'Fav genre_Lofi', 'Composer']\n",
      "['Frequency [K pop]', 'Instrumentalist', 'Frequency [Classical]', 'Fav genre_Folk']\n",
      "['Fav genre_Jazz', 'Frequency [Latin]', 'Fav genre_R&B', 'Fav genre_Country', 'Foreign languages', 'Frequency [Metal]', 'Frequency [Jazz]', 'Fav genre_Rock', 'Fav genre_K pop', 'Primary streaming service_Apple Music', 'Fav genre_Hip hop']\n",
      "['Primary streaming service_Other streaming service', 'Frequency [Gospel]', 'Fav genre_Jazz', 'Frequency [Pop]', 'Age', 'Fav genre_Folk', 'Fav genre_Latin', 'Fav genre_K pop']\n"
     ]
    }
   ],
   "source": [
    "# Step 8 [cont]: Dropping Highly Correlated Features to Label --> Threshold (gamma) = 0.01\n",
    "anxiety_drop = pearson_drop_gamma(anxiety_encoded, anxiety_corr, 0.01)\n",
    "depression_drop = pearson_drop_gamma(depression_encoded, depression_corr, 0.01)\n",
    "ocd_drop = pearson_drop_gamma(ocd_encoded, ocd_corr, 0.01)\n",
    "insomnia_drop = pearson_drop_gamma(insomnia_encoded, insomnia_corr, 0.01)\n",
    "\n",
    "features_to_drop = set(anxiety_drop).intersection(depression_drop, ocd_drop, insomnia_drop)"
   ]
  },
  {
   "cell_type": "code",
   "execution_count": 16,
   "metadata": {},
   "outputs": [
    {
     "data": {
      "text/plain": [
       "set()"
      ]
     },
     "execution_count": 16,
     "metadata": {},
     "output_type": "execute_result"
    }
   ],
   "source": [
    "features_to_drop"
   ]
  },
  {
   "cell_type": "code",
   "execution_count": 17,
   "metadata": {},
   "outputs": [],
   "source": [
    "anxiety_final_full = drop_irreleveant(anxiety_encoded, features_to_drop)\n",
    "depression_final_full = drop_irreleveant(depression_encoded, features_to_drop)\n",
    "ocd_final_full = drop_irreleveant(ocd_encoded, features_to_drop)\n",
    "insomnia_final_full = drop_irreleveant(insomnia_encoded, features_to_drop)"
   ]
  },
  {
   "cell_type": "code",
   "execution_count": 18,
   "metadata": {},
   "outputs": [],
   "source": [
    "# Step 9: Create Train-Test-Splits of Data\n",
    "anxiety_train, anxiety_test = data_split(anxiety_final_full)\n",
    "depression_train, depression_test = data_split(depression_final_full)\n",
    "ocd_train, ocd_test = data_split(ocd_final_full)\n",
    "insomnia_train, insomnia_test = data_split(insomnia_final_full)"
   ]
  },
  {
   "cell_type": "code",
   "execution_count": 19,
   "metadata": {},
   "outputs": [
    {
     "data": {
      "text/plain": [
       "Anxiety\n",
       "1    405\n",
       "0    175\n",
       "Name: count, dtype: int64"
      ]
     },
     "execution_count": 19,
     "metadata": {},
     "output_type": "execute_result"
    }
   ],
   "source": [
    "# VISUALIZE THESE\n",
    "anxiety_train['Anxiety'].value_counts()"
   ]
  },
  {
   "cell_type": "code",
   "execution_count": 20,
   "metadata": {},
   "outputs": [
    {
     "data": {
      "text/plain": [
       "Depression\n",
       "1    317\n",
       "0    263\n",
       "Name: count, dtype: int64"
      ]
     },
     "execution_count": 20,
     "metadata": {},
     "output_type": "execute_result"
    }
   ],
   "source": [
    "depression_train['Depression'].value_counts()"
   ]
  },
  {
   "cell_type": "code",
   "execution_count": 21,
   "metadata": {},
   "outputs": [
    {
     "data": {
      "text/plain": [
       "OCD\n",
       "0    438\n",
       "1    142\n",
       "Name: count, dtype: int64"
      ]
     },
     "execution_count": 21,
     "metadata": {},
     "output_type": "execute_result"
    }
   ],
   "source": [
    "ocd_train['OCD'].value_counts()"
   ]
  },
  {
   "cell_type": "code",
   "execution_count": 22,
   "metadata": {},
   "outputs": [
    {
     "data": {
      "text/plain": [
       "Insomnia\n",
       "0    353\n",
       "1    227\n",
       "Name: count, dtype: int64"
      ]
     },
     "execution_count": 22,
     "metadata": {},
     "output_type": "execute_result"
    }
   ],
   "source": [
    "insomnia_train['Insomnia'].value_counts()"
   ]
  },
  {
   "cell_type": "code",
   "execution_count": 23,
   "metadata": {},
   "outputs": [
    {
     "data": {
      "text/plain": [
       "(725, 45)"
      ]
     },
     "metadata": {},
     "output_type": "display_data"
    },
    {
     "data": {
      "text/plain": [
       "(725, 45)"
      ]
     },
     "metadata": {},
     "output_type": "display_data"
    },
    {
     "data": {
      "text/plain": [
       "(725, 45)"
      ]
     },
     "metadata": {},
     "output_type": "display_data"
    },
    {
     "data": {
      "text/plain": [
       "(725, 45)"
      ]
     },
     "metadata": {},
     "output_type": "display_data"
    }
   ],
   "source": [
    "display(anxiety_final_full.shape)\n",
    "display(depression_final_full.shape)\n",
    "display(ocd_final_full.shape)\n",
    "display(insomnia_final_full.shape)"
   ]
  },
  {
   "cell_type": "code",
   "execution_count": 24,
   "metadata": {},
   "outputs": [],
   "source": [
    "# Step 10: Min-Max Scaling --> Only on Training Data              \n",
    "cols_scale = anxiety_final_full.iloc[:, :-1].columns\n",
    "anxiety_train_final, anxiety_test_final = min_max_scale(anxiety_train, anxiety_test, cols_scale)\n",
    "depression_train_final, depression_test_final = min_max_scale(depression_train, depression_test, cols_scale)\n",
    "ocd_train_final, ocd_test_final = min_max_scale(ocd_train, ocd_test, cols_scale)\n",
    "insomnia_train_final, insomnia_test_final = min_max_scale(insomnia_train, insomnia_test, cols_scale)"
   ]
  },
  {
   "cell_type": "code",
   "execution_count": 25,
   "metadata": {},
   "outputs": [],
   "source": [
    "# Making xFeat & y\n",
    "\n",
    "    # Anxiety\n",
    "anxiety_train_xFeat = anxiety_train_final.iloc[:, :-1]\n",
    "anxiety_train_y = anxiety_train_final.iloc[:, -1]\n",
    "anxiety_test_xFeat = anxiety_test_final.iloc[:, :-1]\n",
    "anxiety_test_y = anxiety_test_final.iloc[:, -1]\n",
    "\n",
    "    # Depression\n",
    "depression_train_xFeat = depression_train_final.iloc[:, :-1]\n",
    "depression_train_y = depression_train_final.iloc[:, -1]\n",
    "depression_test_xFeat = depression_test_final.iloc[:, :-1]\n",
    "depression_test_y = depression_test_final.iloc[:, -1]\n",
    "\n",
    "    # OCD\n",
    "ocd_train_xFeat = ocd_train_final.iloc[:, :-1]\n",
    "ocd_train_y = ocd_train_final.iloc[:, -1]\n",
    "ocd_test_xFeat = ocd_test_final.iloc[:, :-1]\n",
    "ocd_test_y = ocd_test_final.iloc[:, -1]\n",
    "\n",
    "    # Insomnia\n",
    "insomnia_train_xFeat = insomnia_train_final.iloc[:, :-1]\n",
    "insomnia_train_y = insomnia_train_final.iloc[:, -1]\n",
    "insomnia_test_xFeat = insomnia_test_final.iloc[:, :-1]\n",
    "insomnia_test_y = insomnia_test_final.iloc[:, -1]\n"
   ]
  },
  {
   "cell_type": "code",
   "execution_count": 26,
   "metadata": {},
   "outputs": [],
   "source": [
    "# Applying SMOTE to Training Data\n",
    "\n",
    "    # Anxiety\n",
    "final_anxiety_train_xFeat, final_anxiety_train_y = smote(anxiety_train_xFeat, anxiety_train_y)\n",
    "\n",
    "    # Depression\n",
    "final_depression_train_xFeat, final_depression_train_y = smote(depression_train_xFeat, depression_train_y)\n",
    "\n",
    "    # OCD\n",
    "final_ocd_train_xFeat, final_ocd_train_y = smote(ocd_train_xFeat, ocd_train_y)\n",
    "\n",
    "    # Insiomnia\n",
    "final_insomnia_train_xFeat, final_insomnia_train_y = smote(insomnia_train_xFeat, insomnia_train_y)"
   ]
  },
  {
   "cell_type": "code",
   "execution_count": 27,
   "metadata": {},
   "outputs": [
    {
     "data": {
      "text/plain": [
       "(810, 44)"
      ]
     },
     "metadata": {},
     "output_type": "display_data"
    },
    {
     "data": {
      "text/plain": [
       "(810,)"
      ]
     },
     "metadata": {},
     "output_type": "display_data"
    },
    {
     "data": {
      "text/plain": [
       "(634, 44)"
      ]
     },
     "metadata": {},
     "output_type": "display_data"
    },
    {
     "data": {
      "text/plain": [
       "(634,)"
      ]
     },
     "metadata": {},
     "output_type": "display_data"
    },
    {
     "data": {
      "text/plain": [
       "(876, 44)"
      ]
     },
     "metadata": {},
     "output_type": "display_data"
    },
    {
     "data": {
      "text/plain": [
       "(876,)"
      ]
     },
     "metadata": {},
     "output_type": "display_data"
    },
    {
     "data": {
      "text/plain": [
       "(706, 44)"
      ]
     },
     "metadata": {},
     "output_type": "display_data"
    },
    {
     "data": {
      "text/plain": [
       "(706,)"
      ]
     },
     "metadata": {},
     "output_type": "display_data"
    }
   ],
   "source": [
    "display(final_anxiety_train_xFeat.shape)\n",
    "display(final_anxiety_train_y.shape)\n",
    "display(final_depression_train_xFeat.shape)\n",
    "display(final_depression_train_y.shape)\n",
    "display(final_ocd_train_xFeat.shape)\n",
    "display(final_ocd_train_y.shape)\n",
    "display(final_insomnia_train_xFeat.shape)\n",
    "display(final_insomnia_train_y.shape)"
   ]
  },
  {
   "cell_type": "code",
   "execution_count": 28,
   "metadata": {},
   "outputs": [
    {
     "data": {
      "text/plain": [
       "Anxiety\n",
       "1    405\n",
       "0    405\n",
       "Name: count, dtype: int64"
      ]
     },
     "metadata": {},
     "output_type": "display_data"
    },
    {
     "data": {
      "text/plain": [
       "Depression\n",
       "1    317\n",
       "0    317\n",
       "Name: count, dtype: int64"
      ]
     },
     "metadata": {},
     "output_type": "display_data"
    },
    {
     "data": {
      "text/plain": [
       "OCD\n",
       "1    438\n",
       "0    438\n",
       "Name: count, dtype: int64"
      ]
     },
     "metadata": {},
     "output_type": "display_data"
    },
    {
     "data": {
      "text/plain": [
       "Insomnia\n",
       "0    353\n",
       "1    353\n",
       "Name: count, dtype: int64"
      ]
     },
     "metadata": {},
     "output_type": "display_data"
    }
   ],
   "source": [
    "display(final_anxiety_train_y.value_counts())\n",
    "display(final_depression_train_y.value_counts())\n",
    "display(final_ocd_train_y.value_counts())\n",
    "display(final_insomnia_train_y.value_counts())"
   ]
  },
  {
   "cell_type": "code",
   "execution_count": 29,
   "metadata": {},
   "outputs": [],
   "source": [
    "# Step 11: Save Files to CSV -- CHANGE FILE PATHS\n",
    "\n",
    "    # Save ' '_final_full\n",
    "anxiety_final_full.to_csv('/Users/JasonLebov_1/Desktop/CS 470/Final Project/Final Data/Binary Class/binary_anxiety_final_full.csv', index=False)\n",
    "depression_final_full.to_csv('/Users/JasonLebov_1/Desktop/CS 470/Final Project/Final Data/Binary Class/binary_depression_final_full.csv', index=False)\n",
    "ocd_final_full.to_csv('/Users/JasonLebov_1/Desktop/CS 470/Final Project/Final Data/Binary Class/binary_ocd_final_full.csv', index=False)\n",
    "insomnia_final_full.to_csv('/Users/JasonLebov_1/Desktop/CS 470/Final Project/Final Data/Binary Class/binary_insomnia_final_full.csv', index=False)\n",
    "\n",
    "    # Save Train-Test-Splits\n",
    "final_anxiety_train_xFeat.to_csv('/Users/JasonLebov_1/Desktop/CS 470/Final Project/Final Data/Binary Class/binary_anxiety_train_xFeat.csv', index=False)\n",
    "final_anxiety_train_y.to_csv('/Users/JasonLebov_1/Desktop/CS 470/Final Project/Final Data/Binary Class/binary_anxiety_train_y.csv', index=False)\n",
    "anxiety_test_xFeat.to_csv('/Users/JasonLebov_1/Desktop/CS 470/Final Project/Final Data/Binary Class/binary_anxiety_test_xFeat.csv', index=False)\n",
    "anxiety_test_y.to_csv('/Users/JasonLebov_1/Desktop/CS 470/Final Project/Final Data/Binary Class/binary_anxiety_test_y.csv', index=False)\n",
    "\n",
    "final_depression_train_xFeat.to_csv('/Users/JasonLebov_1/Desktop/CS 470/Final Project/Final Data/Binary Class/binary_depression_train_xFeat.csv', index=False)\n",
    "final_depression_train_y.to_csv('/Users/JasonLebov_1/Desktop/CS 470/Final Project/Final Data/Binary Class/binary_depression_train_y.csv', index=False)\n",
    "depression_test_xFeat.to_csv('/Users/JasonLebov_1/Desktop/CS 470/Final Project/Final Data/Binary Class/binary_depression_test_xFeat.csv', index=False)\n",
    "depression_test_y.to_csv('/Users/JasonLebov_1/Desktop/CS 470/Final Project/Final Data/Binary Class/binary_depression_test_y.csv', index=False)\n",
    "\n",
    "final_ocd_train_xFeat.to_csv('/Users/JasonLebov_1/Desktop/CS 470/Final Project/Final Data/Binary Class/binary_ocd_train_xFeat.csv', index=False)\n",
    "final_ocd_train_y.to_csv('/Users/JasonLebov_1/Desktop/CS 470/Final Project/Final Data/Binary Class/binary_ocd_train_y.csv', index=False)\n",
    "ocd_test_xFeat.to_csv('/Users/JasonLebov_1/Desktop/CS 470/Final Project/Final Data/Binary Class/binary_ocd_test_xFeat.csv', index=False)\n",
    "ocd_test_y.to_csv('/Users/JasonLebov_1/Desktop/CS 470/Final Project/Final Data/Binary Class/binary_ocd_test_y.csv', index=False)\n",
    "\n",
    "final_insomnia_train_xFeat.to_csv('/Users/JasonLebov_1/Desktop/CS 470/Final Project/Final Data/Binary Class/binary_insomnia_train_xFeat.csv', index=False)\n",
    "final_insomnia_train_y.to_csv('/Users/JasonLebov_1/Desktop/CS 470/Final Project/Final Data/Binary Class/binary_insomnia_train_y.csv', index=False)\n",
    "insomnia_test_xFeat.to_csv('/Users/JasonLebov_1/Desktop/CS 470/Final Project/Final Data/Binary Class/binary_insomnia_test_xFeat.csv', index=False)\n",
    "insomnia_test_y.to_csv('/Users/JasonLebov_1/Desktop/CS 470/Final Project/Final Data/Binary Class/binary_insomnia_test_y.csv', index=False)"
   ]
  },
  {
   "cell_type": "markdown",
   "metadata": {},
   "source": [
    "Visualizations"
   ]
  },
  {
   "cell_type": "code",
   "execution_count": null,
   "metadata": {},
   "outputs": [],
   "source": [
    "# Graph of Pearson Correlation Matrices - Features\n",
    "plt.figure(figsize=(35,30)) # 35, 30\n",
    "plt.title('Pearson Correlation Matrix of Features', fontsize=20)\n",
    "sns.heatmap(feature_corr, annot=True, cmap=plt.cm.Blues, fmt='.2f')"
   ]
  },
  {
   "cell_type": "code",
   "execution_count": null,
   "metadata": {},
   "outputs": [],
   "source": [
    "# Graph of Pearson Correlation Matrices - Labels"
   ]
  },
  {
   "cell_type": "code",
   "execution_count": null,
   "metadata": {},
   "outputs": [],
   "source": [
    "    # Anxiety\n",
    "plt.figure(figsize=(35,30))\n",
    "plt.title('Pearson Correlation Matrix of Features vs Anxiety', fontsize=20)\n",
    "sns.heatmap(anxiety_corr, annot=True, cmap=plt.cm.Blues, fmt='.2f')"
   ]
  },
  {
   "cell_type": "code",
   "execution_count": null,
   "metadata": {},
   "outputs": [],
   "source": [
    "    # Depression\n",
    "plt.figure(figsize=(35,30))\n",
    "plt.title('Pearson Correlation Matrix of Features vs Depression', fontsize=20)\n",
    "sns.heatmap(depression_corr, annot=True, cmap=plt.cm.Blues, fmt='.2f')"
   ]
  },
  {
   "cell_type": "code",
   "execution_count": null,
   "metadata": {},
   "outputs": [],
   "source": [
    "    # OCD\n",
    "plt.figure(figsize=(35,30))\n",
    "plt.title('Pearson Correlation Matrix of Features vs OCD', fontsize=20)\n",
    "sns.heatmap(ocd_corr, annot=True, cmap=plt.cm.Blues, fmt='.2f')"
   ]
  },
  {
   "cell_type": "code",
   "execution_count": null,
   "metadata": {},
   "outputs": [],
   "source": [
    "    # Insomnia\n",
    "plt.figure(figsize=(35,30))\n",
    "plt.title('Pearson Correlation Matrix of Features vs Insomnia', fontsize=20)\n",
    "sns.heatmap(insomnia_corr, annot=True, cmap=plt.cm.Blues, fmt='.2f')"
   ]
  }
 ],
 "metadata": {
  "kernelspec": {
   "display_name": "env1",
   "language": "python",
   "name": "python3"
  },
  "language_info": {
   "codemirror_mode": {
    "name": "ipython",
    "version": 3
   },
   "file_extension": ".py",
   "mimetype": "text/x-python",
   "name": "python",
   "nbconvert_exporter": "python",
   "pygments_lexer": "ipython3",
   "version": "3.11.8"
  }
 },
 "nbformat": 4,
 "nbformat_minor": 2
}
