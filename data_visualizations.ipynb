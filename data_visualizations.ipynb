{
 "cells": [
  {
   "cell_type": "code",
   "execution_count": 1,
   "metadata": {},
   "outputs": [],
   "source": [
    "import pandas as pd\n",
    "import numpy as np\n",
    "import matplotlib.pyplot as plt\n",
    "import seaborn as sns"
   ]
  },
  {
   "cell_type": "code",
   "execution_count": 2,
   "metadata": {},
   "outputs": [],
   "source": [
    "data_raw = pd.read_csv('/Users/JasonLebov_1/Desktop/CS 470/Final Project/mxmh_survey_results.csv')"
   ]
  },
  {
   "cell_type": "code",
   "execution_count": null,
   "metadata": {},
   "outputs": [],
   "source": [
    "# Distribution of Favorite Genre\n",
    "\n",
    "fav_genre_df = (data_raw.groupby(\"Fav genre\")\n",
    "                      .agg(count = ('Fav genre','count')).sort_values(by='count', ascending=True))\n",
    "fav_genre_df.reset_index(inplace=True)\n",
    "\n",
    "sns.set_style(\"whitegrid\")\n",
    "plt.figure(figsize=(10, 6))\n",
    "sns.barplot(x=fav_genre_df['count'], y=fav_genre_df['Fav genre'], palette=\"Blues\")\n",
    "plt.xlabel('Count')\n",
    "plt.ylabel('Favorite Genre')\n",
    "plt.title('Respondent\\'s Favorite Music Genres')\n",
    "plt.show()"
   ]
  },
  {
   "cell_type": "code",
   "execution_count": null,
   "metadata": {},
   "outputs": [],
   "source": [
    "# Distribution of Musical Genre Frequency Listening\n",
    "val_count_dict = {}\n",
    "\n",
    "cols = [\"Frequency [Classical]\", \"Frequency [Country]\", \"Frequency [EDM]\", \"Frequency [Folk]\", 'Frequency [Gospel]', \"Frequency [Hip hop]\", \"Frequency [Jazz]\", \"Frequency [K pop]\", \"Frequency [Latin]\", \"Frequency [Lofi]\", \"Frequency [Metal]\", \"Frequency [Pop]\",\"Frequency [R&B]\", \"Frequency [Rap]\",'Frequency [Rock]', 'Frequency [Video game music]']\n",
    "col_label = ['Classical', 'Country', 'EDM', 'Folk', 'Gospel', 'Hip Hop', 'Jazz', 'K Pop', 'Latin', 'Lofi', 'Metal', 'Pop', 'R&B', 'Rap', 'Rock', 'Video Game Music']\n",
    "value_order = ['Never', 'Rarely', 'Sometimes', 'Very frequently']\n",
    "\n",
    "for val in cols:\n",
    "    count = data_raw[val].value_counts()\n",
    "    val_count_dict[val] = count\n",
    "\n",
    "count_df = pd.concat(val_count_dict, axis=1)\n",
    "count_df.columns = col_label\n",
    "count_df = count_df.reindex(value_order)\n",
    "final_count = count_df.transpose()"
   ]
  },
  {
   "cell_type": "code",
   "execution_count": null,
   "metadata": {},
   "outputs": [],
   "source": [
    "# Graph Distribution of Mental Illness for Frequency Ranges"
   ]
  }
 ],
 "metadata": {
  "kernelspec": {
   "display_name": "env1",
   "language": "python",
   "name": "python3"
  },
  "language_info": {
   "codemirror_mode": {
    "name": "ipython",
    "version": 3
   },
   "file_extension": ".py",
   "mimetype": "text/x-python",
   "name": "python",
   "nbconvert_exporter": "python",
   "pygments_lexer": "ipython3",
   "version": "3.11.8"
  }
 },
 "nbformat": 4,
 "nbformat_minor": 2
}
